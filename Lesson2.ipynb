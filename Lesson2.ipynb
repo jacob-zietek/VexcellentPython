{
  "nbformat": 4,
  "nbformat_minor": 0,
  "metadata": {
    "colab": {
      "name": "Lesson2.ipynb",
      "provenance": [],
      "collapsed_sections": [],
      "authorship_tag": "ABX9TyOh7CG4uZvaWkF7l6JqNwC4",
      "include_colab_link": true
    },
    "kernelspec": {
      "name": "python3",
      "display_name": "Python 3"
    }
  },
  "cells": [
    {
      "cell_type": "markdown",
      "metadata": {
        "id": "view-in-github",
        "colab_type": "text"
      },
      "source": [
        "<a href=\"https://colab.research.google.com/github/jacob-zietek/VexcellentPython/blob/main/Lesson2.ipynb\" target=\"_parent\"><img src=\"https://colab.research.google.com/assets/colab-badge.svg\" alt=\"Open In Colab\"/></a>"
      ]
    },
    {
      "cell_type": "markdown",
      "metadata": {
        "id": "TvYgRZBNnMBw"
      },
      "source": [
        "![Caltech Logo [California Institute of Technology] Download Vector](https://cdn.freelogovectors.net/wp-content/uploads/2018/08/Caltech_Logo-California_Institute_of_Technology.png)\n",
        "\n",
        "\n",
        "\n",
        "---\n",
        "\n",
        "\n",
        "\n",
        "\n",
        "\n",
        "![Samy's homepage](https://www.math.purdue.edu/~stindel/purdue-logo.png)"
      ]
    },
    {
      "cell_type": "markdown",
      "metadata": {
        "id": "g9LEJ00fniA3"
      },
      "source": [
        "# Introduction\n",
        "\n",
        "In Lesson 1 we explored some concepts in Computer Science. This lesson aims to connect the afformentioned concepts to code in VEXCode VR. [Click here to go to the website](https://vr.vex.com/)\n",
        "\n",
        "VEXCode VR is a website designed by VEX that allows you to **program a virtual robot** with loads of different sensors. Although there's no manual control, it lets you explore different concepts in *autonomous programming*. This ends up being the more difficult of the two by far, so we encourage you to use it! \n",
        "\n",
        "The website is designed to be used with block code, a language where written code is replaced with code blocks, by default. If we click the text icon on the top right side, you can see what the code would look like written out. This is a good way to get comfortable with the concepts of programming to see what logic looks like written out.\n",
        "\n",
        "![VEXCODEVRtextcode.png](data:image/png;base64,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)\n",
        "\n",
        "Although this is useful when you're first learning, we recommend exploring this in your own time. \n",
        "\n",
        "For the remainder of the lesson, we'll be writing purely in text. Please be sure to hit the **Convert to Text Project** button if you are following along.\n",
        "\n",
        "Alike the block text interface, there are code snippets you can use on the left hand side to help you program. There, you will find commands to call different **sensors, the drivetrain, and the pen**. \n",
        "\n"
      ]
    },
    {
      "cell_type": "markdown",
      "metadata": {
        "id": "QcM-sApsuGRu"
      },
      "source": [
        "# VEXCode VR Challenges\n",
        "\n",
        "As a way to help you learn, VEX has included sets of challenges that can be found [here](https://education.vex.com/vr/). These challenges are great tools to learn how to program autonomous functions.\n",
        "\n",
        "In this lesson we will go through the [Draw a House](https://docs.google.com/document/d/1FTHiOUjd-AqsjhczydnLvKi69yX3fJY3KspG4NhMdCQ/edit) challenge.  \n",
        "\n"
      ]
    },
    {
      "cell_type": "markdown",
      "metadata": {
        "id": "W1D2QmWun5Iq"
      },
      "source": [
        "# Review\n",
        "\n",
        "##If Statements \n",
        "**if** statements are the most basic way for computers to make decisions. if statements are very useful if you want a chunk of code to execute only when certain conditions are met. You give the computer a conditional statement and a corresponding action depending on the value of the conditional.\n",
        "\n",
        "##For Loops\n",
        "For loops will **iterate** over the same chunk of code with different variables.\n",
        "\n",
        "##While Loops\n",
        "While loops function similarly to for loops in that you can iterate over a chunk of code a certain amount of times as dictated by a conditional statement. Instead of iterating **for** elements in an array, in a while loop iterates **while** some condition remains true. Let's look at the structure of a while loop.\n",
        "\n",
        "##Functions\n",
        "Custom functions are an incredibly powerful tool that you can utilize to repeat code. They're like a mini-program that we can write separately from the main program, without having to think about the rest of the program while we write it. This allows us to reduce a complicated program into smaller, more manageable chunks, which reduces the overall complexity of our program."
      ]
    }
  ]
}