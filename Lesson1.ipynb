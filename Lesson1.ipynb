{
  "nbformat": 4,
  "nbformat_minor": 0,
  "metadata": {
    "colab": {
      "name": "Lesson1.ipynb",
      "provenance": [],
      "collapsed_sections": [],
      "include_colab_link": true
    },
    "kernelspec": {
      "name": "python3",
      "display_name": "Python 3"
    }
  },
  "cells": [
    {
      "cell_type": "markdown",
      "metadata": {
        "id": "view-in-github",
        "colab_type": "text"
      },
      "source": [
        "<a href=\"https://colab.research.google.com/github/jacob-zietek/VexcellentPython/blob/main/Lesson1.ipynb\" target=\"_parent\"><img src=\"https://colab.research.google.com/assets/colab-badge.svg\" alt=\"Open In Colab\"/></a>"
      ]
    },
    {
      "cell_type": "markdown",
      "metadata": {
        "id": "OvpMHQTtpJUf"
      },
      "source": [
        "# Hello, "
      ]
    },
    {
      "cell_type": "markdown",
      "metadata": {
        "id": "bgcqOxCScFal"
      },
      "source": [
        "# Assigning Variables:\n",
        "\n",
        "In Python, you don't have to explicitly declare your data type.  "
      ]
    },
    {
      "cell_type": "code",
      "metadata": {
        "id": "vxeMgin1mEEK",
        "outputId": "71553a24-9c43-4367-cced-147d8a11b590",
        "colab": {
          "base_uri": "https://localhost:8080/"
        }
      },
      "source": [
        "a = 4\n",
        "b = 'hello world'\n",
        "c = 3.1415\n",
        "d = ('dog',4)\n",
        "e = [a,b,c,d]\n",
        "print(e)\n",
        "type(c)"
      ],
      "execution_count": null,
      "outputs": [
        {
          "output_type": "stream",
          "text": [
            "[4, 'hello world', 3.1415, ('dog', 4)]\n"
          ],
          "name": "stdout"
        },
        {
          "output_type": "execute_result",
          "data": {
            "text/plain": [
              "float"
            ]
          },
          "metadata": {
            "tags": []
          },
          "execution_count": 12
        }
      ]
    },
    {
      "cell_type": "markdown",
      "metadata": {
        "id": "BiIIZkqSsHfS"
      },
      "source": [
        "Lily and Jacob will beat you up if you have vague or dumb variable names.\n",
        "\n",
        "examples:\n",
        "```{python}\n",
        "a\n",
        "number\n",
        "asdlkjvn\n",
        "String\n",
        "vArIable\n",
        "```\n",
        "\n",
        "Make sure your variable names are:\n",
        "- Descriptive\n",
        "- Not the name of another function like \"input\" (Python won't know which one to use!)\n",
        "- Following some standard like camelCase, UpperCamelCase, or names_using_underscores\n",
        "\n",
        "There are also some standards for special types of variables. For example, variables that remain **CONSTANT** are often written in all CAPS. Variables that reference a *motor* will always be written in CAPS, since that varible will never change.\n",
        "\n",
        "You will learn the other standards as you continue to program :)"
      ]
    },
    {
      "cell_type": "markdown",
      "metadata": {
        "id": "GFmnpAIOqYDl"
      },
      "source": [
        "# Operators\n",
        "To perform operations on your variables you must use these operators.\n",
        "\n",
        "Addition: +\n",
        "\n",
        "Multiplication: *\n",
        "\n",
        "Division: /\n",
        "\n",
        "Raise to a power: **\n",
        "\n",
        "Modular Division: %"
      ]
    },
    {
      "cell_type": "code",
      "metadata": {
        "id": "91StV_5LtMf7"
      },
      "source": [
        "print(a+a)\n",
        "print(b+b)\n",
        "print(2.2+3.2)\n",
        "print(10/5)\n",
        "print(12%5)\n",
        "print(2**3)"
      ],
      "execution_count": null,
      "outputs": []
    },
    {
      "cell_type": "markdown",
      "metadata": {
        "id": "_Jz7KTCT0W_V"
      },
      "source": [
        "a+a=4 as you would expect\n",
        "\n",
        "b+b **concatenates** the two strings and the result is 'hello worldhello world'\n",
        "\n",
        "c+c=5.4 as expected\n",
        "\n",
        "10/5 returns 2.0 as a **float** data type  \n",
        "\n",
        "12%5 returns the remainder when 12 is divided by 5 which is 2. This is an **integer** data type.\n",
        "\n",
        "2**3 returns 8 which is 2 to the third power."
      ]
    },
    {
      "cell_type": "markdown",
      "metadata": {
        "id": "X0fNR_JGp1Ai"
      },
      "source": [
        "# Conditionals\n",
        "\n",
        "While programming, you'll be using logic to make different decisions. Often times in robotics, we'll be making decisions to do things based off of different variables and sensor inputs. \n",
        "\n",
        "Some decisions you may make are:\n",
        "- Should the flywheel turn on now?\n",
        "- When should the wheels on my drivetrain start turning?\n",
        "- In autonomous, what should I do if my vision sensor detects something?\n",
        "\n",
        "Conditional statements can help translate our logic into programming, and are combined with other statements later on to execute code.\n",
        "\n",
        "In Python, our end goal is to get statements to either a **True** or **False**. \n",
        "\n",
        "We can use different operators to compare variables, such as:\n",
        "- == (equals)\n",
        "- != (not equals)\n",
        "- \\> (is greater than)\n",
        "- < (is less than)\n",
        "- \\>= (is greater than or equal to)\n",
        "- <= (is less than or equals to)\n",
        "\n",
        "You would use these operators to compare different variables, and that operation will return **True** or **False**. For example:\n",
        "\n",
        "**1 > 2** is false\n",
        "**2 > 1** is true\n",
        "**\"jacob\" != \"lily\"** is true\n",
        "\n",
        "You can combine these statements using *or* and *and* to get more advanced logic. (In other languages, these are commonly *||* and *&&* respectively. \n",
        "\n",
        "The *and* operator will return **True** if both statements its comparing are True. The *or* operator will return **True** if either statement is true.\n",
        "![File:Truth table for AND, OR, and NOT.png - Wikimedia Commons](https://upload.wikimedia.org/wikipedia/commons/4/4a/Truth_table_for_AND%2C_OR%2C_and_NOT.png)\n",
        "\n",
        "Some examples of *and* and *or*:\n",
        "\n",
        "**isTheRobotStill and doesTheRobotHaveABall** evaluates to true only if the robot has a ball and is standing still; this can be useful for knowing when to shoot a ball.\n",
        "\n",
        "**amIGettingPushed or buttonAIsPressed** evaluates to true if either button A is being pressed or the robot is being pushed; this can be useful for combining user input with environmental input to shut down your drive train.\n",
        "\n",
        "We will go over how to use this logic in the next section."
      ]
    },
    {
      "cell_type": "markdown",
      "metadata": {
        "id": "rrDSEXo_ndfG"
      },
      "source": [
        "#If Statements \n",
        "**if** statements are the most basic way for computers to make decisions. if statements are very useful if you want a chunk of code to execute only when certain conditions are met. You give the computer a conditional statement and a corresponding action depending on the value of the conditional. \n",
        "```{python}\n",
        "if lily==dumb:\n",
        "\tprint('lily is ejected from Caltech')\n",
        "```\n",
        "So, if lily==dumb is a true statement, the computer will execute the command on the next line. \n",
        "\n",
        "If you are programming a robot to respond to joystick values, you might have a statement like:\n",
        "```{python}\n",
        "if Controller.Axis1.value() > 0;        #We will talk about this syntax when we get to functions\n",
        "\tmotor1.drive(FORWARD)\n",
        "```\n",
        "The computer will decide if the value of the joystick is greater than 0. If that statement is true, then the command to make the motor drive forward is executed. \n",
        "\n",
        "If you want to give the computer a command to execute when the conditional evaluates to false, you can do so using an **else** statement. Say you wanted to determine if a value is positive or negative and print the result. That can be achieved with the following code:"
      ]
    },
    {
      "cell_type": "code",
      "metadata": {
        "id": "GW_LEzYECHIs"
      },
      "source": [
        "num = 5\n",
        "if abs(num)==num:\n",
        "\tprint('5 is a positive number')\n",
        "else: \n",
        "\tprint('5 is a negative number')"
      ],
      "execution_count": null,
      "outputs": []
    },
    {
      "cell_type": "markdown",
      "metadata": {
        "id": "PrwsGyDLCFM4"
      },
      "source": [
        "If you want to give the computer more choice options, you can do so using an **elif** statement. This is short for else if. An elif statement must follow an if statement but proceed an else statement. If you wanted to determine your letter grade from a test score out of 100 points, you could accomplish this with the following code:"
      ]
    },
    {
      "cell_type": "code",
      "metadata": {
        "id": "WJM5Hb6ECj_E"
      },
      "source": [
        "grade = 89\n",
        "if grade >= 90 and grade <= 100:\n",
        "  print('You got an A')\n",
        "elif grade >= 80 and grade <90:\n",
        "  print('You got a B')\n",
        "elif grade >= 70 and grade <80:\n",
        "  print('You got a C')\n",
        "elif grade >=60 and grade <70:\n",
        "  print('You got a D')\n",
        "else:\n",
        "  print('You got an F')"
      ],
      "execution_count": null,
      "outputs": []
    },
    {
      "cell_type": "markdown",
      "metadata": {
        "id": "iwMWzy2jEaIu"
      },
      "source": [
        "This code does indeed determine the correct letter grade from the given percentage grade, however, in a lot of ways if statements are not very efficient on their own. It is much more efficient to repeat the same code we already wrote but for multiple input values of grade, which brings us to for loops."
      ]
    },
    {
      "cell_type": "markdown",
      "metadata": {
        "id": "9-axr_k-px0K"
      },
      "source": [
        "#For Loops\n",
        "For loops will **iterate** over the same chunk of code as many times as you specify and you can change the input values for every iteration. If you wanted to determine your letter for each of five tests you took this quarter, it could be accomplished with the following code:"
      ]
    },
    {
      "cell_type": "code",
      "metadata": {
        "id": "ZVR174yzKRs-"
      },
      "source": [
        "grades = [89,50,75,92,100]\n",
        "\n",
        "for grade in grades:\n",
        "  if grade >= 90 and grade <= 100:\n",
        "    print('You got an A')\n",
        "  elif grade >= 80 and grade <90:\n",
        "    print('You got a B')\n",
        "  elif grade >= 70 and grade <80:\n",
        "    print('You got a C')\n",
        "  elif grade >=60 and grade <70:\n",
        "    print('You got a D')\n",
        "  else:\n",
        "    print('You got an F')"
      ],
      "execution_count": null,
      "outputs": []
    },
    {
      "cell_type": "markdown",
      "metadata": {
        "id": "9_kikDaGK24a"
      },
      "source": [
        "#While Loops\n",
        "While loops function similarly to for loops in that you can iterate over a chunk of code a certain amount of times as dictated by a conditional statement. Instead of iterating **for** elements in an array, in a while loop iterates **while** some condition remains true. Let's look at the structure of a while loop."
      ]
    },
    {
      "cell_type": "code",
      "metadata": {
        "id": "DFG4_N7VRGz2"
      },
      "source": [
        "count = 1\n",
        "while count < 5:\n",
        "  print(count)\n",
        "  count += 1"
      ],
      "execution_count": null,
      "outputs": []
    },
    {
      "cell_type": "markdown",
      "metadata": {
        "id": "2pJEwAR6RZw-"
      },
      "source": [
        "Notice that count only goes up to 4, because once it hits 4 the conditional statement count < 5 is not longer true and the while loop ends. If the count variable was never incremented, we would have an **infinite loop** where the conditional statement will always be true and the loop never ends. This is very bad for your computer so always double check your while loop conditionals and make sure they won't ever become infintite loops."
      ]
    },
    {
      "cell_type": "markdown",
      "metadata": {
        "id": "KHOHSozyq6sA"
      },
      "source": [
        "# Functions\n",
        "\n",
        "Custom functions are an incredibly powerful tool that you can utilize to repeat code. They're like a mini-program that we can write separately from the main program, without having to think about the rest of the program while we write it. This allows us to reduce a complicated program into smaller, more manageable chunks, which reduces the overall complexity of our program.\n",
        "\n",
        "We already use functions while programming in python to, for example, print to the console. We can use the function **print()** with any string input to print out that string into the console. There's no need to know what it's doing behind the scenes, we just know it works. \n",
        "\n",
        "This concept of **abstraction** allows us to write extremely complicated code while focusing on the bigger picture.\n",
        "\n",
        "Functions should be made when there are bits of repeating code. If we know we're going to do something more than once, it's better off in a function. In robotics programming, checks of code to check states of the robot and different subsystems (like drivetrain, flywheel, intake) are usually are broken up into functions.\n",
        "\n",
        "Functions can also return data for us to use later. We will use the keyword **return** to return data and end a function.\n",
        "\n",
        "Here is an example of a function named **isInteger**\n",
        "\n",
        "```{python}\n",
        "def isInteger(x):\n",
        "\tif(type(x) == int):\n",
        "\t\treturn True\n",
        "\telse:\n",
        "\t\treturn False\n",
        "```\n",
        "\n",
        "If we pass in different inputs, we will get a return of True or False depending on if the input x is of type integer or not. Something important to note is that this variable returns something, **not all variables need to return something**!\n",
        "\n",
        "As you can see, the way we **def**ine a function is with the **def** keyword, and we have to include any input inside of the parenthesis. This input can be anything from a simple integer to a whole object (which we'll get into later!). We can put as many inputs inside of the parenthasis as we need, separating them by commas. Ex.\n",
        "```{python}\n",
        "def example(a, b, c):\n",
        "```\n",
        "\n",
        "Functions are a pretty abstract concept, the best way to learn them is by applying them.\n"
      ]
    },
    {
      "cell_type": "code",
      "metadata": {
        "id": "AOesS36n9Dmd",
        "outputId": "0e2241ac-4ec3-4dd0-8b27-18880c126769",
        "colab": {
          "base_uri": "https://localhost:8080/"
        }
      },
      "source": [
        "def isInteger(x):\n",
        "\t'''\n",
        "\tThis function returns True if the input is an integer,\n",
        "\tand it returns False if it is not.\n",
        "\t'''\n",
        "\tif(type(x) == int):\n",
        "\t\treturn True\n",
        "\telse:\n",
        "\t\treturn False\n",
        "\n",
        "print(isInteger(0)) # Checks if \"0\" is an integer\n",
        "print(isInteger([0])) # Checks if list containing \"0\" is an integer\n",
        "print(isInteger(True)) # Checks if boolean \"True\" is an integer\n",
        "print(isInteger(input)) # Checks if function \"input\" is an integer\n",
        "print(isInteger(input())) # Gets user input and sees if it's an integer (This will always return False because input() returns a string!)"
      ],
      "execution_count": null,
      "outputs": [
        {
          "output_type": "stream",
          "text": [
            "True\n",
            "False\n",
            "False\n",
            "False\n",
            "100\n",
            "False\n"
          ],
          "name": "stdout"
        }
      ]
    }
  ]
}